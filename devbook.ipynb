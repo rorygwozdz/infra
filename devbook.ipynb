{
 "cells": [
  {
   "cell_type": "code",
   "execution_count": null,
   "id": "1275ae26",
   "metadata": {},
   "outputs": [],
   "source": [
    "import requests\n",
    "import pandas as pd\n",
    "\n",
    "# Set your backend URL\n",
    "BASE_URL = \"http://localhost:8000/orats\"\n",
    "\n",
    "# Sample ticker for testing\n",
    "TICKER = \"AAPL\"\n",
    "\n",
    "# Helper function to pretty-print DataFrame or raw JSON\n",
    "def preview(response):\n",
    "    try:\n",
    "        data = response.json()\n",
    "        if isinstance(data, dict) and \"data\" in data:\n",
    "            return pd.DataFrame(data[\"data\"])\n",
    "        return data\n",
    "    except Exception as e:\n",
    "        print(\"Error:\", e)\n",
    "        print(response.text)\n",
    "        return None\n",
    "\n"
   ]
  },
  {
   "cell_type": "code",
   "execution_count": null,
   "id": "f9e64213",
   "metadata": {
    "vscode": {
     "languageId": "plaintext"
    }
   },
   "outputs": [],
   "source": [
    "\n",
    "# 1. Get Strikes\n",
    "r_strikes = requests.get(f\"{BASE_URL}/strikes\", params={\"ticker\": TICKER})\n",
    "print(\"✅ /strikes\")\n",
    "display(preview(r_strikes))\n",
    "\n",
    "# 2. Get Expirations\n",
    "r_expirations = requests.get(f\"{BASE_URL}/expirations\", params={\"ticker\": TICKER})\n",
    "print(\"✅ /expirations\")\n",
    "display(preview(r_expirations))\n",
    "\n",
    "# 3. Get Vols\n",
    "r_vols = requests.get(f\"{BASE_URL}/vols\", params={\"ticker\": TICKER})\n",
    "print(\"✅ /vols\")\n",
    "display(preview(r_vols))\n",
    "\n",
    "# 4. Get Greeks\n",
    "r_greeks = requests.get(f\"{BASE_URL}/greeks\", params={\"ticker\": TICKER})\n",
    "print(\"✅ /greeks\")\n",
    "display(preview(r_greeks))\n",
    "\n",
    "# 5. Get Skew\n",
    "r_skew = requests.get(f\"{BASE_URL}/skew\", params={\"ticker\": TICKER})\n",
    "print(\"✅ /skew\")\n",
    "display(preview(r_skew))\n",
    "\n",
    "# 6. Get Surface\n",
    "r_surface = requests.get(f\"{BASE_URL}/surface\", params={\"ticker\": TICKER})\n",
    "print(\"✅ /surface\")\n",
    "display(preview(r_surface))\n",
    "\n",
    "# 7. Get Volatility Cone\n",
    "r_cone = requests.get(f\"{BASE_URL}/volatility_cone\", params={\"ticker\": TICKER})\n",
    "print(\"✅ /volatility_cone\")\n",
    "display(preview(r_cone))\n",
    "\n",
    "# 8. Get Forward Curve\n",
    "r_fwd = requests.get(f\"{BASE_URL}/forward_curve\", params={\"ticker\": TICKER})\n",
    "print(\"✅ /forward_curve\")\n",
    "display(preview(r_fwd))"
   ]
  },
  {
   "cell_type": "code",
   "execution_count": null,
   "id": "572f8cb9",
   "metadata": {
    "vscode": {
     "languageId": "plaintext"
    }
   },
   "outputs": [],
   "source": [
    "for qs in querystrings:\n",
    "    response = requests.request(\"GET\", earns_url, params=qs)\n",
    "    df = pd.json_normalize(response.json()[\"data\"])\n",
    "    df['earnDate'] = pd.to_datetime(df['earnDate'])\n",
    "    df['earnDateShifted'] = df['earnDate']  + pd.offsets.BusinessDay(1)\n",
    "    df['anncTod'] = df['anncTod'].astype(int)\n",
    "    df['earnDateEff'] = np.where(df['anncTod'] > 1600, df['earnDateShifted'], df['earnDate'])\n",
    "    df.to_csv(\"check.csv\")\n",
    "    break"
   ]
  },
  {
   "cell_type": "code",
   "execution_count": null,
   "id": "7c7d73d5",
   "metadata": {
    "vscode": {
     "languageId": "plaintext"
    }
   },
   "outputs": [],
   "source": [
    "cores_response = requests.request(\"GET\", cores_url, params=querystring)\n",
    "cores_df = pd.json_normalize(cores_response.json()[\"data\"])"
   ]
  },
  {
   "cell_type": "code",
   "execution_count": null,
   "id": "42c66ec0",
   "metadata": {
    "vscode": {
     "languageId": "plaintext"
    }
   },
   "outputs": [],
   "source": []
  }
 ],
 "metadata": {
  "language_info": {
   "name": "python"
  }
 },
 "nbformat": 4,
 "nbformat_minor": 5
}
