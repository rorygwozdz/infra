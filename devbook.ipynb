{
 "cells": [
  {
   "cell_type": "code",
   "execution_count": 4,
   "id": "1275ae26",
   "metadata": {},
   "outputs": [],
   "source": [
    "import requests\n",
    "import pandas as pd\n",
    "\n",
    "# Set your backend URL\n",
    "BASE_URL = \"http://localhost:8000/orats\"\n",
    "\n",
    "# Sample ticker for testing\n",
    "TICKER = \"AAPL\"\n",
    "\n",
    "# Helper function to pretty-print DataFrame or raw JSON\n",
    "def preview(response):\n",
    "    try:\n",
    "        data = response.json()\n",
    "        if isinstance(data, dict) and \"data\" in data:\n",
    "            return pd.DataFrame(data[\"data\"])\n",
    "        return data\n",
    "    except Exception as e:\n",
    "        print(\"Error:\", e)\n",
    "        print(response.text)\n",
    "        return None"
   ]
  },
  {
   "cell_type": "code",
   "execution_count": 5,
   "id": "f9e64213",
   "metadata": {},
   "outputs": [
    {
     "name": "stdout",
     "output_type": "stream",
     "text": [
      "✅ /strikes\n"
     ]
    },
    {
     "data": {
      "text/plain": [
       "{'status_code': 500,\n",
       " 'detail': \"HTTPError('403 Client Error: Forbidden for url: https://api.orats.io/datav2/live/strikes?ticker=AAPL&token=df44ef7f-80ab-4508-924c-0e6d199723fc')\"}"
      ]
     },
     "metadata": {},
     "output_type": "display_data"
    }
   ],
   "source": [
    "\n",
    "# 1. Get Strikes\n",
    "r_strikes = requests.get(f\"{BASE_URL}/strikes\", params={\"ticker\": TICKER})\n",
    "print(\"✅ /strikes\")\n",
    "display(preview(r_strikes))\n"
   ]
  },
  {
   "cell_type": "code",
   "execution_count": null,
   "id": "572f8cb9",
   "metadata": {},
   "outputs": [],
   "source": [
    "\n",
    "# 2. Get Expirations\n",
    "r_expirations = requests.get(f\"{BASE_URL}/expirations\", params={\"ticker\": TICKER})\n",
    "print(\"✅ /expirations\")\n",
    "display(preview(r_expirations))\n"
   ]
  },
  {
   "cell_type": "code",
   "execution_count": null,
   "id": "7c7d73d5",
   "metadata": {},
   "outputs": [],
   "source": [
    "\n",
    "# 3. Get Vols\n",
    "r_vols = requests.get(f\"{BASE_URL}/vols\", params={\"ticker\": TICKER})\n",
    "print(\"✅ /vols\")\n",
    "display(preview(r_vols))\n"
   ]
  },
  {
   "cell_type": "code",
   "execution_count": null,
   "id": "42c66ec0",
   "metadata": {},
   "outputs": [],
   "source": [
    "\n",
    "# 4. Get Greeks\n",
    "r_greeks = requests.get(f\"{BASE_URL}/greeks\", params={\"ticker\": TICKER})\n",
    "print(\"✅ /greeks\")\n",
    "display(preview(r_greeks))\n"
   ]
  },
  {
   "cell_type": "code",
   "execution_count": null,
   "id": "10780e96",
   "metadata": {},
   "outputs": [],
   "source": [
    "\n",
    "# 5. Get Skew\n",
    "r_skew = requests.get(f\"{BASE_URL}/skew\", params={\"ticker\": TICKER})\n",
    "print(\"✅ /skew\")\n",
    "display(preview(r_skew))\n"
   ]
  },
  {
   "cell_type": "code",
   "execution_count": null,
   "id": "9031b735",
   "metadata": {},
   "outputs": [],
   "source": [
    "\n",
    "# 6. Get Surface\n",
    "r_surface = requests.get(f\"{BASE_URL}/surface\", params={\"ticker\": TICKER})\n",
    "print(\"✅ /surface\")\n",
    "display(preview(r_surface))\n"
   ]
  },
  {
   "cell_type": "code",
   "execution_count": null,
   "id": "c4cb4fa6",
   "metadata": {},
   "outputs": [],
   "source": [
    "\n",
    "# 7. Get Volatility Cone\n",
    "r_cone = requests.get(f\"{BASE_URL}/volatility_cone\", params={\"ticker\": TICKER})\n",
    "print(\"✅ /volatility_cone\")\n",
    "display(preview(r_cone))\n"
   ]
  },
  {
   "cell_type": "code",
   "execution_count": null,
   "id": "469cdb0a",
   "metadata": {},
   "outputs": [],
   "source": [
    "\n",
    "# 8. Get Forward Curve\n",
    "r_fwd = requests.get(f\"{BASE_URL}/forward_curve\", params={\"ticker\": TICKER})\n",
    "print(\"✅ /forward_curve\")\n",
    "display(preview(r_fwd))"
   ]
  }
 ],
 "metadata": {
  "kernelspec": {
   "display_name": ".venv",
   "language": "python",
   "name": "python3"
  },
  "language_info": {
   "codemirror_mode": {
    "name": "ipython",
    "version": 3
   },
   "file_extension": ".py",
   "mimetype": "text/x-python",
   "name": "python",
   "nbconvert_exporter": "python",
   "pygments_lexer": "ipython3",
   "version": "3.11.9"
  }
 },
 "nbformat": 4,
 "nbformat_minor": 5
}
